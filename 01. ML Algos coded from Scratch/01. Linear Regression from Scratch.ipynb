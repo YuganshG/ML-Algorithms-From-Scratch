{
 "cells": [
  {
   "cell_type": "code",
   "execution_count": 1,
   "id": "a37560b7-79c6-4e2a-884c-000adeda2900",
   "metadata": {},
   "outputs": [],
   "source": [
    "import numpy as np\n",
    "import matplotlib.pyplot as plt\n",
    "import pandas as pd"
   ]
  },
  {
   "cell_type": "code",
   "execution_count": 2,
   "id": "1c440354-75c7-464c-b50d-86f8a6df8db0",
   "metadata": {},
   "outputs": [],
   "source": [
    "float_formatter = \"{:.2f}\".format\n",
    "np.set_printoptions(formatter={'float_kind':float_formatter})"
   ]
  },
  {
   "cell_type": "code",
   "execution_count": 3,
   "id": "657b8c08-9e46-4e91-8171-d2f94faa9bab",
   "metadata": {},
   "outputs": [],
   "source": [
    "def hypothesis(X, theta):\n",
    "    # X of shape m x (n+1)\n",
    "    # theta of shape (n+1)x1\n",
    "    # return h of shape m x 1\n",
    "    \n",
    "    X = X.T\n",
    "    \n",
    "    h = theta.T @ X\n",
    "    \n",
    "    return h.T"
   ]
  },
  {
   "cell_type": "code",
   "execution_count": 4,
   "id": "c7f2de16-4372-42e9-8c45-edfc94113a3c",
   "metadata": {},
   "outputs": [],
   "source": [
    "def cost_function(X, Y, theta):\n",
    "    # shape of X : m x (n+1) \n",
    "    # shape of Y : m x 1\n",
    "    # shape of h : m x 1\n",
    "    \n",
    "    m = X.shape[0]\n",
    "    \n",
    "    h = hypothesis(X, theta)\n",
    "    \n",
    "    J = (1/(2*m))*( np.sum((h-Y)**2) )\n",
    "    \n",
    "    return J"
   ]
  },
  {
   "cell_type": "code",
   "execution_count": 5,
   "id": "b81b5fc3-95f2-4225-9620-5917c6d702c1",
   "metadata": {},
   "outputs": [],
   "source": [
    "def get_gradients(h, Y, X):\n",
    "    # shape of X : m x (n+1) \n",
    "    # shape of Y : m x 1\n",
    "    # returns gradients of shape : (n+1) x 1\n",
    "    \n",
    "    m = X.shape[0]\n",
    "    \n",
    "    gradients = (1/m)*( (h-Y).T @ X  )\n",
    "    \n",
    "    return gradients.T"
   ]
  },
  {
   "cell_type": "code",
   "execution_count": 6,
   "id": "ba1b2309-b341-4b6f-86c9-ccbb3d6ca496",
   "metadata": {},
   "outputs": [],
   "source": [
    "def gradient_descent(X, Y, theta, alpha):\n",
    "    # shape of X : m x (n+1) \n",
    "    # shape of Y : m x 1\n",
    "    # returns theta of shape: (n+1) x 1\n",
    "    \n",
    "    m = X.shape[0]\n",
    "    losses = []    #J_history\n",
    "    epoch=1\n",
    "\n",
    "    while True:\n",
    "        h = hypothesis(X, theta)\n",
    "        gradients = get_gradients(h, Y, X)\n",
    "        \n",
    "        theta = theta - alpha*gradients\n",
    "        \n",
    "        losses.append(cost_function(X, Y, theta))\n",
    " \n",
    "        if np.sum(np.abs(gradients)).round(3) == 0:\n",
    "            print(\"Training Complete in {} epochs\".format(epoch))\n",
    "            break\n",
    "            \n",
    "        epoch+=1\n",
    "\n",
    "    return theta, losses, epoch\n",
    " "
   ]
  },
  {
   "cell_type": "code",
   "execution_count": 7,
   "id": "aabbfb83-0595-4ade-a3d0-40afc350c5cf",
   "metadata": {},
   "outputs": [],
   "source": [
    "def Linear_Regression(X, Y, alpha, plot=True):\n",
    "    \n",
    "    theta = np.zeros((X.shape[1], 1))\n",
    "    \n",
    "    theta, losses, nepochs = gradient_descent(X, Y, theta, alpha)\n",
    "\n",
    "    J = cost_function(X, Y, theta)\n",
    "\n",
    "    # plot cost\n",
    "    plot_cost(losses, nepochs)\n",
    "    \n",
    "    if plot==True:\n",
    "        plot_fitted_line(X, Y, theta)\n",
    "\n",
    "    print(\"Cost: \", J)\n",
    "    print(\"Learned Parameters: \\n\", theta)\n",
    "    \n",
    "    return theta"
   ]
  },
  {
   "cell_type": "code",
   "execution_count": null,
   "id": "6bb06dc6-858f-4454-9ca9-f268f27e9c3b",
   "metadata": {},
   "outputs": [],
   "source": []
  },
  {
   "cell_type": "markdown",
   "id": "33cddd66-d307-4f4d-ae1e-52d07f3636d8",
   "metadata": {},
   "source": [
    "Helper functions"
   ]
  },
  {
   "cell_type": "code",
   "execution_count": 8,
   "id": "24e3c3af-2a79-451b-89af-bf7c326ad90b",
   "metadata": {},
   "outputs": [],
   "source": [
    "def load_data(filename):\n",
    "    \n",
    "    df = pd.read_csv(filename, sep=\",\", index_col=False, header=None)\n",
    "    \n",
    "    return df"
   ]
  },
  {
   "cell_type": "code",
   "execution_count": 9,
   "id": "b71eb64c-1fad-4fc5-bf1b-6215d383d701",
   "metadata": {},
   "outputs": [],
   "source": [
    "def add_bias(df):\n",
    "    \n",
    "    df.insert(0, \"intercept\", 1)\n",
    "\n",
    "    data = np.array(df, dtype='float')\n",
    "    X = data[:,0:df.shape[1]-1]\n",
    "    Y = data[:,df.shape[1]-1]\n",
    "\n",
    "    Y = Y.reshape(X.shape[0],1)\n",
    "    \n",
    "    return X,Y"
   ]
  },
  {
   "cell_type": "code",
   "execution_count": 10,
   "id": "60320a3c-9f2a-4e71-beb9-7a47086d964f",
   "metadata": {},
   "outputs": [],
   "source": [
    "def normalize(X, bias_added=True):\n",
    "    \n",
    "    mu = X.mean(axis=0, keepdims=True)\n",
    "    std = X.std(axis=0, keepdims=True)\n",
    "    \n",
    "    if bias_added==True:\n",
    "        mu[0,0]=0\n",
    "        std[0,0]=1\n",
    "    \n",
    "    X = (X-mu)/std\n",
    "    \n",
    "    return X, mu, std\n",
    "\n",
    "def normalize_test(X, mu, std, bias_added=True):\n",
    "    \n",
    "    if bias_added==False:\n",
    "        mu=mu[:,1:]\n",
    "        std=std[:1:]\n",
    "    \n",
    "    X = (X-mu)/std\n",
    "    \n",
    "    return X"
   ]
  },
  {
   "cell_type": "code",
   "execution_count": 11,
   "id": "cb3699f6-8c4a-48a8-836a-7b92d8ab3a56",
   "metadata": {},
   "outputs": [],
   "source": [
    "def plot_cost(losses, nepochs):\n",
    "    \n",
    "    nepochs = range(1,nepochs+1)\n",
    "    losses = np.array(losses)\n",
    "    \n",
    "    plt.figure()\n",
    "    plt.xlabel('Epochs')\n",
    "    plt.ylabel('Cost')\n",
    "    plt.plot(nepochs, losses, 'm', linewidth = \"5\")\n",
    "    plt.show()"
   ]
  },
  {
   "cell_type": "code",
   "execution_count": 12,
   "id": "cfe298e7-15fd-4074-9bb7-a9085353a3c5",
   "metadata": {},
   "outputs": [],
   "source": [
    "def plot_data(X, Y):\n",
    "    \n",
    "    plt.figure()\n",
    "    plt.xlabel('Population of City in 10,000s')\n",
    "    plt.ylabel('Profit in $10,000s')\n",
    "    plt.plot(X, Y, 'ro')\n",
    "    plt.show()"
   ]
  },
  {
   "cell_type": "code",
   "execution_count": 13,
   "id": "56964818-5249-4185-99f9-c533fca0b05e",
   "metadata": {},
   "outputs": [],
   "source": [
    "def plot_fitted_line(X, Y, theta):\n",
    "    \n",
    "    y = hypothesis(X, theta)\n",
    "    X = X[:,1].reshape(X.shape[0],1)\n",
    "    \n",
    "    plt.figure()\n",
    "    plt.xlabel('Population of City in 10,000s')\n",
    "    plt.ylabel('Profit in $10,000s')\n",
    "    plt.plot(X, Y, 'ro')\n",
    "    plt.plot(X, y, 'blue', linestyle='-')\n",
    "    plt.show()\n"
   ]
  },
  {
   "cell_type": "markdown",
   "id": "0562d4ff-17ea-402f-93f1-48da69251678",
   "metadata": {},
   "source": [
    "Training"
   ]
  },
  {
   "cell_type": "code",
   "execution_count": 14,
   "id": "b6556245-5f20-46b6-9c5a-399e70aa0923",
   "metadata": {},
   "outputs": [
    {
     "data": {
      "text/html": [
       "<div>\n",
       "<style scoped>\n",
       "    .dataframe tbody tr th:only-of-type {\n",
       "        vertical-align: middle;\n",
       "    }\n",
       "\n",
       "    .dataframe tbody tr th {\n",
       "        vertical-align: top;\n",
       "    }\n",
       "\n",
       "    .dataframe thead th {\n",
       "        text-align: right;\n",
       "    }\n",
       "</style>\n",
       "<table border=\"1\" class=\"dataframe\">\n",
       "  <thead>\n",
       "    <tr style=\"text-align: right;\">\n",
       "      <th></th>\n",
       "      <th>population</th>\n",
       "      <th>profits</th>\n",
       "    </tr>\n",
       "  </thead>\n",
       "  <tbody>\n",
       "    <tr>\n",
       "      <th>0</th>\n",
       "      <td>6.1101</td>\n",
       "      <td>17.5920</td>\n",
       "    </tr>\n",
       "    <tr>\n",
       "      <th>1</th>\n",
       "      <td>5.5277</td>\n",
       "      <td>9.1302</td>\n",
       "    </tr>\n",
       "    <tr>\n",
       "      <th>2</th>\n",
       "      <td>8.5186</td>\n",
       "      <td>13.6620</td>\n",
       "    </tr>\n",
       "    <tr>\n",
       "      <th>3</th>\n",
       "      <td>7.0032</td>\n",
       "      <td>11.8540</td>\n",
       "    </tr>\n",
       "    <tr>\n",
       "      <th>4</th>\n",
       "      <td>5.8598</td>\n",
       "      <td>6.8233</td>\n",
       "    </tr>\n",
       "  </tbody>\n",
       "</table>\n",
       "</div>"
      ],
      "text/plain": [
       "   population  profits\n",
       "0      6.1101  17.5920\n",
       "1      5.5277   9.1302\n",
       "2      8.5186  13.6620\n",
       "3      7.0032  11.8540\n",
       "4      5.8598   6.8233"
      ]
     },
     "execution_count": 14,
     "metadata": {},
     "output_type": "execute_result"
    }
   ],
   "source": [
    "filename = \"lr_dataset1.txt\"\n",
    "    \n",
    "df = load_data(filename)\n",
    "\n",
    "df.columns = [\"population\", \"profits\"]\n",
    "df.head()"
   ]
  },
  {
   "cell_type": "code",
   "execution_count": 15,
   "id": "d5c1eb83-4717-4821-be48-b151894cf9a4",
   "metadata": {},
   "outputs": [
    {
     "name": "stdout",
     "output_type": "stream",
     "text": [
      "Number of features in the dataset is 2 with 97 samples \n"
     ]
    }
   ],
   "source": [
    "print(\"Number of features in the dataset is {} with {} samples \".format(df.shape[1],df.shape[0]))"
   ]
  },
  {
   "cell_type": "code",
   "execution_count": 16,
   "id": "7411ba32-cf56-4db5-bb8c-8a90b5076804",
   "metadata": {},
   "outputs": [],
   "source": [
    "X, Y = add_bias(df)\n",
    "\n",
    "X, mu, std = normalize(X)"
   ]
  },
  {
   "cell_type": "code",
   "execution_count": 17,
   "id": "3f501944-d88f-4bbb-8db1-9da086f9949e",
   "metadata": {},
   "outputs": [
    {
     "data": {
      "image/png": "[encoded data removed]",
      "text/plain": [
       "<Figure size 432x288 with 1 Axes>"
      ]
     },
     "metadata": {
      "needs_background": "light"
     },
     "output_type": "display_data"
    }
   ],
   "source": [
    "plot_data(X[:,1],Y)"
   ]
  },
  {
   "cell_type": "code",
   "execution_count": 18,
   "id": "35bca8d3-811b-47b6-9077-88d7dd02ba07",
   "metadata": {},
   "outputs": [
    {
     "name": "stdout",
     "output_type": "stream",
     "text": [
      "Training Complete in 96 epochs\n"
     ]
    },
    {
     "data": {
      "image/png": "[encoded data removed]",
      "text/plain": [
       "<Figure size 432x288 with 1 Axes>"
      ]
     },
     "metadata": {
      "needs_background": "light"
     },
     "output_type": "display_data"
    },
    {
     "data": {
      "image/png": "[encoded data removed]",
      "text/plain": [
       "<Figure size 432x288 with 1 Axes>"
      ]
     },
     "metadata": {
      "needs_background": "light"
     },
     "output_type": "display_data"
    },
    {
     "name": "stdout",
     "output_type": "stream",
     "text": [
      "Cost:  4.4769714212028475\n",
      "Learned Parameters: \n",
      " [[5.84]\n",
      " [4.59]]\n"
     ]
    }
   ],
   "source": [
    "alpha = 0.1\n",
    "\n",
    "theta = Linear_Regression(X, Y, alpha)"
   ]
  },
  {
   "cell_type": "code",
   "execution_count": 19,
   "id": "59dfb05b-8fef-49ed-9d8d-44df3f9f0ba4",
   "metadata": {},
   "outputs": [],
   "source": [
    "def test(X, theta, mu, std):\n",
    "    \n",
    "    X = normalize_test(X, mu, std)\n",
    "    \n",
    "    y = hypothesis(X, theta)\n",
    "    \n",
    "    return y"
   ]
  },
  {
   "cell_type": "code",
   "execution_count": 20,
   "id": "44ae3f4c-9f91-42f2-a583-a232db38f664",
   "metadata": {},
   "outputs": [
    {
     "name": "stdout",
     "output_type": "stream",
     "text": [
      "Predicted Profit is :  [[25.93]]\n"
     ]
    }
   ],
   "source": [
    "X_test = np.array([[1, 25]])\n",
    "\n",
    "y = test(X_test, theta, mu, std)\n",
    "\n",
    "print(\"Predicted Profit is : \", y)"
   ]
  },
  {
   "cell_type": "code",
   "execution_count": null,
   "id": "63a2c73d-8900-44cc-9d4f-2e40b52549f1",
   "metadata": {},
   "outputs": [],
   "source": []
  },
  {
   "cell_type": "markdown",
   "id": "cdfcf781-45e6-491e-94ba-ca8e2e2e6ad2",
   "metadata": {},
   "source": [
    "Multivariate Case:"
   ]
  },
  {
   "cell_type": "code",
   "execution_count": 21,
   "id": "2f98d283-3307-413c-a8f9-c3b34f9a0181",
   "metadata": {},
   "outputs": [
    {
     "data": {
      "text/html": [
       "<div>\n",
       "<style scoped>\n",
       "    .dataframe tbody tr th:only-of-type {\n",
       "        vertical-align: middle;\n",
       "    }\n",
       "\n",
       "    .dataframe tbody tr th {\n",
       "        vertical-align: top;\n",
       "    }\n",
       "\n",
       "    .dataframe thead th {\n",
       "        text-align: right;\n",
       "    }\n",
       "</style>\n",
       "<table border=\"1\" class=\"dataframe\">\n",
       "  <thead>\n",
       "    <tr style=\"text-align: right;\">\n",
       "      <th></th>\n",
       "      <th>sq-ft</th>\n",
       "      <th>br</th>\n",
       "      <th>price</th>\n",
       "    </tr>\n",
       "  </thead>\n",
       "  <tbody>\n",
       "    <tr>\n",
       "      <th>0</th>\n",
       "      <td>2104</td>\n",
       "      <td>3</td>\n",
       "      <td>399900</td>\n",
       "    </tr>\n",
       "    <tr>\n",
       "      <th>1</th>\n",
       "      <td>1600</td>\n",
       "      <td>3</td>\n",
       "      <td>329900</td>\n",
       "    </tr>\n",
       "    <tr>\n",
       "      <th>2</th>\n",
       "      <td>2400</td>\n",
       "      <td>3</td>\n",
       "      <td>369000</td>\n",
       "    </tr>\n",
       "    <tr>\n",
       "      <th>3</th>\n",
       "      <td>1416</td>\n",
       "      <td>2</td>\n",
       "      <td>232000</td>\n",
       "    </tr>\n",
       "    <tr>\n",
       "      <th>4</th>\n",
       "      <td>3000</td>\n",
       "      <td>4</td>\n",
       "      <td>539900</td>\n",
       "    </tr>\n",
       "  </tbody>\n",
       "</table>\n",
       "</div>"
      ],
      "text/plain": [
       "   sq-ft  br   price\n",
       "0   2104   3  399900\n",
       "1   1600   3  329900\n",
       "2   2400   3  369000\n",
       "3   1416   2  232000\n",
       "4   3000   4  539900"
      ]
     },
     "execution_count": 21,
     "metadata": {},
     "output_type": "execute_result"
    }
   ],
   "source": [
    "filename = \"lr_dataset2.txt\"\n",
    "\n",
    "df = load_data(filename)\n",
    "\n",
    "df.columns = [\"sq-ft\", \"br\", \"price\"]\n",
    "df.head()"
   ]
  },
  {
   "cell_type": "code",
   "execution_count": 22,
   "id": "583cd7ab-3547-4134-bffe-357dd5673d45",
   "metadata": {},
   "outputs": [
    {
     "name": "stdout",
     "output_type": "stream",
     "text": [
      "Number of features in the dataset is 3 with 47 samples \n"
     ]
    }
   ],
   "source": [
    "print(\"Number of features in the dataset is {} with {} samples \".format(df.shape[1],df.shape[0]))"
   ]
  },
  {
   "cell_type": "code",
   "execution_count": 23,
   "id": "1df91947-6421-4ee1-9bee-88937555a64a",
   "metadata": {},
   "outputs": [],
   "source": [
    "X, Y = add_bias(df)\n",
    "\n",
    "X, mu, std = normalize(X)"
   ]
  },
  {
   "cell_type": "code",
   "execution_count": 24,
   "id": "aa0d14ba-0135-418b-95d3-458597a37ccd",
   "metadata": {},
   "outputs": [
    {
     "name": "stdout",
     "output_type": "stream",
     "text": [
      "Training Complete in 411 epochs\n"
     ]
    },
    {
     "data": {
      "image/png": "[encoded data removed]",
      "text/plain": [
       "<Figure size 432x288 with 1 Axes>"
      ]
     },
     "metadata": {
      "needs_background": "light"
     },
     "output_type": "display_data"
    },
    {
     "name": "stdout",
     "output_type": "stream",
     "text": [
      "Cost:  2043280050.602829\n",
      "Learned Parameters: \n",
      " [[340412.66]\n",
      " [109447.80]\n",
      " [-6578.35]]\n"
     ]
    }
   ],
   "source": [
    "alpha = 0.1\n",
    "\n",
    "theta = Linear_Regression(X, Y, alpha, False)"
   ]
  },
  {
   "cell_type": "code",
   "execution_count": 25,
   "id": "37337fda-5850-42f5-86b6-c9acf9f9d0bd",
   "metadata": {},
   "outputs": [
    {
     "name": "stdout",
     "output_type": "stream",
     "text": [
      "Predicted price of the house is :  [[286120.93]]\n"
     ]
    }
   ],
   "source": [
    "X_test = np.array([[1, 1600, 3]])\n",
    "\n",
    "y = test(X_test, theta, mu, std)\n",
    "\n",
    "print(\"Predicted price of the house is : \", y)"
   ]
  },
  {
   "cell_type": "code",
   "execution_count": null,
   "id": "fcd14710-416f-48b5-b33b-3796fa6d3e35",
   "metadata": {},
   "outputs": [],
   "source": []
  }
 ],
 "metadata": {
  "kernelspec": {
   "display_name": "Python 3 (ipykernel)",
   "language": "python",
   "name": "python3"
  },
  "language_info": {
   "codemirror_mode": {
    "name": "ipython",
    "version": 3
   },
   "file_extension": ".py",
   "mimetype": "text/x-python",
   "name": "python",
   "nbconvert_exporter": "python",
   "pygments_lexer": "ipython3",
   "version": "3.10.3"
  }
 },
 "nbformat": 4,
 "nbformat_minor": 5
}
