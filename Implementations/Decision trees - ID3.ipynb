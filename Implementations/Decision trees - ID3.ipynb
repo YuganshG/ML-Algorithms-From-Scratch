{
 "cells": [
  {
   "cell_type": "code",
   "execution_count": 1,
   "id": "e7aeb982-a618-404b-90ce-54cc8da2bfdc",
   "metadata": {},
   "outputs": [],
   "source": [
    "import numpy as np\n",
    "import pandas as pd\n",
    "import pydot\n",
    "from IPython.display import Image, display"
   ]
  },
  {
   "cell_type": "code",
   "execution_count": 2,
   "id": "9fa085a4-0bdb-4b9c-857c-26f80a12688f",
   "metadata": {},
   "outputs": [],
   "source": [
    "class Node(object):\n",
    "    def __init__(self):\n",
    "        self.value = None              # feature name to split the current node / class label at leaf node\n",
    "        self.pathCondition = None      # to follow path if value == pathCondition\n",
    "        self.children = None           # all child subtrees of the node\n",
    "        self.entropy = None            # entropy of the node\n",
    "        self.samples = None            # number of samples in node"
   ]
  },
  {
   "cell_type": "code",
   "execution_count": 3,
   "id": "e200cc61-6e5d-4b30-a15c-c963ced3332d",
   "metadata": {},
   "outputs": [],
   "source": [
    "def getEntropyOfNode(target_column):\n",
    "    \n",
    "    entropy = 0\n",
    "    \n",
    "    classes = pd.unique(target_column)\n",
    "    \n",
    "    # Total number of samples in target column T\n",
    "    msamples = target_column.shape[0]\n",
    "    \n",
    "    for c in classes:\n",
    "        # Total occurences of class c in T\n",
    "        mc = target_column[ target_column == c ].shape[0]\n",
    "        \n",
    "        probability_c = mc/ msamples\n",
    "        \n",
    "        if probability_c != 0:\n",
    "            entropy += probability_c * np.log2(probability_c)\n",
    "        else:\n",
    "            entropy += 0\n",
    "        \n",
    "        if probability_c == 1:\n",
    "            return 0, c\n",
    "        \n",
    "    return -entropy, -1"
   ]
  },
  {
   "cell_type": "code",
   "execution_count": 4,
   "id": "19d0b114-63e4-4b06-9388-da1e191bd7c1",
   "metadata": {},
   "outputs": [],
   "source": [
    "def get_information_gain(entropy_before, entropy_after):\n",
    "    \n",
    "    information_gain = entropy_before - entropy_after\n",
    "    \n",
    "    return information_gain"
   ]
  },
  {
   "cell_type": "code",
   "execution_count": 5,
   "id": "896aeddb-89f3-4db9-9e33-00e6ef96a80b",
   "metadata": {},
   "outputs": [],
   "source": [
    "def findBestSplit(df, features):\n",
    "    \"\"\"Find the best question to ask by iterating over every feature / value\n",
    "    and calculating the information gain.\"\"\"\n",
    "    \n",
    "    maxGain = 0\n",
    "    F = -1    #index of feature that best splits the dataset\n",
    "    \n",
    "    entropy_before, leaf_label = getEntropyOfNode(df[target])\n",
    "    \n",
    "    if entropy_before == 0:\n",
    "        # meaning its a leaf node\n",
    "        return maxGain, F, leaf_label\n",
    "    \n",
    "    T = df.shape[0]\n",
    "    \n",
    "    for f in features:\n",
    "        \n",
    "        # all unique values in feature column f\n",
    "        K = pd.unique(df[f])\n",
    "        \n",
    "        entropy_after = 0\n",
    "        \n",
    "        for k in K:\n",
    "            Tk = df[df[f] == k].shape[0]\n",
    "            \n",
    "            entropy, leaf_label = getEntropyOfNode(df[df[f] == k][target])\n",
    "            \n",
    "            entropy_after += (Tk/T)* entropy\n",
    "            \n",
    "        information_gain = get_information_gain(entropy_before, entropy_after)\n",
    "            \n",
    "        if information_gain > maxGain:\n",
    "            F = features.index(f)\n",
    "            maxGain = information_gain\n",
    "            \n",
    "    \n",
    "    return maxGain, F, leaf_label"
   ]
  },
  {
   "cell_type": "code",
   "execution_count": 6,
   "id": "e54c1424-3247-4994-8527-4029c0599380",
   "metadata": {},
   "outputs": [],
   "source": [
    "def build_ID3(df, features):\n",
    "    \n",
    "    maxGain, F, leaf_label = findBestSplit(df, features)\n",
    "    \n",
    "    root = Node()\n",
    "    root.children = []\n",
    "\n",
    "    if maxGain == 0:\n",
    "        # in case the node is a leaf node then set the value of node as class label\n",
    "        root.value = leaf_label\n",
    "        root.samples = df.shape[0]\n",
    "        root.entropy = 0\n",
    "        \n",
    "        return root\n",
    "    \n",
    "    node_entropy, _ = getEntropyOfNode(df[target])\n",
    "    root.entropy = np.round(node_entropy,2)\n",
    "    root.samples = df.shape[0]\n",
    "    root.value = features[F]\n",
    "    \n",
    "    F = features[F]\n",
    "    features = [f for f in features if f!=F ]\n",
    "\n",
    "    K = pd.unique(df[F])\n",
    "    \n",
    "    for k in K:\n",
    "        subtree = build_ID3(df[df[F]==k][features+[target]], features)\n",
    "        subtree.pathCondition = k\n",
    "        root.children.append(subtree)\n",
    "        \n",
    "    return root"
   ]
  },
  {
   "cell_type": "code",
   "execution_count": 7,
   "id": "52bb634f-2853-43b3-a991-250dddc889f2",
   "metadata": {},
   "outputs": [],
   "source": [
    "def tree_to_dot(tree):\n",
    "    \"Function to convert decision tree to dot format\"\n",
    "\n",
    "    node_style = {\"shape\":\"\", 'style':\"filled\", 'fillcolor':\"yellow\"}    \n",
    "    graph_style = {'bgcolor':\"\"}\n",
    "    edge_style = {'color': \"\"}\n",
    "    \n",
    "    tree_graph = pydot.Dot(graph_type=\"digraph\", strict=True, rankdir=\"TB\", **graph_style)\n",
    "    \n",
    "    nodes = {}\n",
    "\n",
    "    def recursive_append(parent_name, current_node):\n",
    "        \"Recursively iterate through the tree to export to dot by creating node and edges.\"\n",
    "        \n",
    "        _node_style = node_style.copy()\n",
    "        _edge_style = edge_style.copy()\n",
    "        \n",
    "        if current_node.entropy != 0:\n",
    "            node_label = \"Split -> {}\\n\" +\\\n",
    "            \"Entropy = {} \\n\"+ \\\n",
    "              \"Samples = {}\"\n",
    "            \n",
    "            node_label = node_label.format(current_node.value, current_node.entropy, current_node.samples)\n",
    "        else:\n",
    "            node_label = \"{} = {}\".format(target, current_node.value)\n",
    "            _node_style[\"shape\"] = \"diamond\"\n",
    "\n",
    "        _edge_style['label'] = current_node.pathCondition\n",
    "\n",
    "        if node_label in nodes.keys():\n",
    "            nodes[node_label] = nodes[node_label] + 1 \n",
    "        else:\n",
    "            nodes[node_label] = 0\n",
    "\n",
    "        node_name = node_label + str(nodes[node_label])\n",
    "\n",
    "        if current_node.entropy == 0:\n",
    "            _node_style[\"fillcolor\"]=\"green\"\n",
    "\n",
    "\n",
    "        node = pydot.Node(name=node_name, label=node_label, **_node_style)\n",
    "        tree_graph.add_node(node)\n",
    "\n",
    "        if parent_name is not None:\n",
    "            edge = pydot.Edge(parent_name, node_name, **_edge_style)\n",
    "            tree_graph.add_edge(edge)\n",
    "\n",
    "        for child in current_node.children:\n",
    "            if child:\n",
    "                recursive_append(node_name, child)\n",
    "\n",
    "    recursive_append(None, tree)\n",
    "\n",
    "    return tree_graph"
   ]
  },
  {
   "cell_type": "code",
   "execution_count": null,
   "id": "1699d353-f3f6-4cda-af04-f071c8b208b8",
   "metadata": {},
   "outputs": [],
   "source": []
  },
  {
   "cell_type": "markdown",
   "id": "d2c7d5ff-010e-4cfc-bbd4-e59f7f6310c8",
   "metadata": {},
   "source": [
    "### Training:"
   ]
  },
  {
   "cell_type": "code",
   "execution_count": 8,
   "id": "64923b46-3459-468e-ad2f-31587749956c",
   "metadata": {},
   "outputs": [],
   "source": [
    "df = pd.read_csv(\"../datasets/playtennis.csv\")\n",
    "\n",
    "features = ['outlook', 'temp', 'humidity', 'wind']\n",
    "target = 'play'"
   ]
  },
  {
   "cell_type": "code",
   "execution_count": 9,
   "id": "38926561-3e46-4a3c-ad3f-482bef219b9e",
   "metadata": {
    "tags": []
   },
   "outputs": [],
   "source": [
    "# Train Decision tree\n",
    "id3_tree = build_ID3(df, features)"
   ]
  },
  {
   "cell_type": "code",
   "execution_count": null,
   "id": "c2c4aaa8-a60d-448e-8d13-b635edb14023",
   "metadata": {},
   "outputs": [],
   "source": []
  },
  {
   "cell_type": "markdown",
   "id": "a1993a2b-bcc1-4e4b-b7ab-c074dd6cd58e",
   "metadata": {},
   "source": [
    "### Display Tree:"
   ]
  },
  {
   "cell_type": "code",
   "execution_count": 10,
   "id": "bef882bf-00b3-4f65-adc7-b19ee1ff8cde",
   "metadata": {
    "tags": []
   },
   "outputs": [
    {
     "data": {
      "image/png": "[encoded data removed]",
      "text/plain": [
       "<IPython.core.display.Image object>"
      ]
     },
     "metadata": {},
     "output_type": "display_data"
    }
   ],
   "source": [
    "tree_graph = tree_to_dot(id3_tree)\n",
    "\n",
    "# tree_graph.write_png(\"../snapshots/id3_tree.png\")\n",
    "\n",
    "# Display image directly without saving (requires IPython)\n",
    "plt = Image(tree_graph.create_png())\n",
    "display(plt)\n"
   ]
  },
  {
   "cell_type": "code",
   "execution_count": null,
   "id": "a20266da-950b-4492-8b40-9783a1293faa",
   "metadata": {},
   "outputs": [],
   "source": []
  },
  {
   "cell_type": "code",
   "execution_count": null,
   "id": "a29b7aae-0bae-4b39-9f7c-582af6e6dc22",
   "metadata": {},
   "outputs": [],
   "source": []
  },
  {
   "cell_type": "code",
   "execution_count": null,
   "id": "f9d6e8cc-5754-4b71-a791-b6d5dc8f95a5",
   "metadata": {},
   "outputs": [],
   "source": []
  },
  {
   "cell_type": "code",
   "execution_count": null,
   "id": "803fa7e4-16e4-4c5f-9881-a89c155af5ec",
   "metadata": {},
   "outputs": [],
   "source": []
  },
  {
   "cell_type": "code",
   "execution_count": null,
   "id": "ccbc5ffc-d42c-416d-8a52-45fff593a0f5",
   "metadata": {},
   "outputs": [],
   "source": []
  },
  {
   "cell_type": "code",
   "execution_count": null,
   "id": "3e79dad6-8ff4-4b00-acbf-5e4aa3170804",
   "metadata": {},
   "outputs": [],
   "source": []
  },
  {
   "cell_type": "code",
   "execution_count": null,
   "id": "2f077774-6b52-4d04-aefc-6e5434ebd418",
   "metadata": {},
   "outputs": [],
   "source": []
  },
  {
   "cell_type": "code",
   "execution_count": null,
   "id": "a10325c6-8d3f-45ad-8943-cce6d9a0bb39",
   "metadata": {},
   "outputs": [],
   "source": []
  },
  {
   "cell_type": "code",
   "execution_count": null,
   "id": "cac18b05-7fbb-48de-b58a-c6e54a6d5909",
   "metadata": {},
   "outputs": [],
   "source": []
  }
 ],
 "metadata": {
  "kernelspec": {
   "display_name": "Python 3 (ipykernel)",
   "language": "python",
   "name": "python3"
  },
  "language_info": {
   "codemirror_mode": {
    "name": "ipython",
    "version": 3
   },
   "file_extension": ".py",
   "mimetype": "text/x-python",
   "name": "python",
   "nbconvert_exporter": "python",
   "pygments_lexer": "ipython3",
   "version": "3.10.3"
  }
 },
 "nbformat": 4,
 "nbformat_minor": 5
}
