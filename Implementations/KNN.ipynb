{
 "cells": [
  {
   "cell_type": "code",
   "execution_count": 1,
   "id": "bd1ab660-c182-4bbe-a1e1-66792c3e7e15",
   "metadata": {},
   "outputs": [],
   "source": [
    "import numpy as np\n",
    "import pandas as pd\n",
    "import matplotlib.pyplot as plt\n",
    "from sklearn.model_selection import train_test_split\n",
    "from sklearn import datasets"
   ]
  },
  {
   "cell_type": "code",
   "execution_count": 2,
   "id": "8b381d95-6078-4668-a7fe-712d11319e0f",
   "metadata": {},
   "outputs": [],
   "source": [
    "def euclidean(test_sample, X):\n",
    "    \n",
    "    d = np.sqrt(np.sum((test_sample - X)**2, axis=1))\n",
    "    \n",
    "    return d"
   ]
  },
  {
   "cell_type": "code",
   "execution_count": 3,
   "id": "5f7d9e0a-c27c-4e86-8c5f-9e706171dff2",
   "metadata": {},
   "outputs": [],
   "source": [
    "def choose_K(datasetX, datasetY, maxK):\n",
    "    \n",
    "    accuracies = []\n",
    "\n",
    "    for k in range(3, maxK):\n",
    "\n",
    "        predictions = KNN(datasetX, datasetY, datasetX, k)\n",
    "        \n",
    "        accuracy = evaluate(predictions, datasetY) \n",
    "        accuracies.append(accuracy)\n",
    "        \n",
    "    plot_accuracies(accuracies, maxK)\n",
    "    chosenK = np.argmax(accuracies)+3\n",
    "    \n",
    "    print(\"Best Accuracy of {}% found for k={} \".format(accuracies[chosenK]*100, chosenK))\n",
    "    print(\"So Chosen K is :\",chosenK)\n",
    "    \n",
    "    return chosenK"
   ]
  },
  {
   "cell_type": "code",
   "execution_count": 4,
   "id": "56674c22-cbab-4b87-b8ef-00f8180e1f11",
   "metadata": {},
   "outputs": [],
   "source": [
    "def plot_accuracies(accuracies, maxK):\n",
    "\n",
    "    Ks = list(range(3,maxK))\n",
    "    accuracies = np.array(accuracies)\n",
    "    \n",
    "    plt.figure()\n",
    "    plt.xlabel('K')\n",
    "    plt.ylabel('Accuracy for K')\n",
    "    plt.plot(Ks, accuracies, 'm', linewidth = \"5\")\n",
    "    plt.title(\"Performance om different values of K\")\n",
    "    plt.show()"
   ]
  },
  {
   "cell_type": "code",
   "execution_count": 5,
   "id": "dcbae658-0ed1-4d1a-9eaa-3bed7efa5495",
   "metadata": {},
   "outputs": [],
   "source": [
    "def get_topK_neighbors(X, Y, test_sample, K):\n",
    "    # Locate the most similar neighbors\n",
    "    \n",
    "    distances = euclidean(test_sample, X)\n",
    "    \n",
    "    distances_sorted = [y for _, y in sorted(zip(distances, Y), key = lambda x: x[0])]\n",
    "\n",
    "    return distances_sorted[:K]"
   ]
  },
  {
   "cell_type": "code",
   "execution_count": 6,
   "id": "3adc1764-2f90-4b49-b3bc-40ecafe3a0aa",
   "metadata": {},
   "outputs": [],
   "source": [
    "def predict_classification(nearestNeighbors):\n",
    "    \n",
    "    unique, counts = np.unique(nearestNeighbors, return_counts=True)\n",
    "    \n",
    "    index = np.argmax(counts)\n",
    "    \n",
    "    return unique[index]"
   ]
  },
  {
   "cell_type": "code",
   "execution_count": 7,
   "id": "e8c4a463-cb67-4bcd-a55d-955d40b5ab46",
   "metadata": {},
   "outputs": [],
   "source": [
    "def KNN(datasetX, datasetY, X_test, K):\n",
    "    \n",
    "    predictions = []\n",
    "\n",
    "    for row in X_test:\n",
    "        nearestNeighbors = get_topK_neighbors(datasetX, datasetY, row, K)\n",
    "\n",
    "        y = predict_classification(nearestNeighbors)\n",
    "\n",
    "        predictions.append(y)\n",
    "        \n",
    "    return predictions"
   ]
  },
  {
   "cell_type": "code",
   "execution_count": null,
   "id": "187e9354-8b95-40a9-a112-eab5c98ffc69",
   "metadata": {},
   "outputs": [],
   "source": []
  },
  {
   "cell_type": "markdown",
   "id": "54f5e494-aa4f-46d6-9bb7-d8c2d0378ba0",
   "metadata": {},
   "source": [
    "Helper functions"
   ]
  },
  {
   "cell_type": "code",
   "execution_count": 8,
   "id": "2ad598ad-f6d1-45ba-bb16-46fa71b796a4",
   "metadata": {},
   "outputs": [],
   "source": [
    "def normalize(X, bias_added=True):\n",
    "    \n",
    "    mu = X.mean(axis=0, keepdims=True)\n",
    "    std = X.std(axis=0, keepdims=True)\n",
    "    \n",
    "    if bias_added==True:\n",
    "        mu[0,0]=0\n",
    "        std[0,0]=1\n",
    "    \n",
    "    X = (X-mu)/std\n",
    "    \n",
    "    return X, mu, std\n",
    "\n",
    "def normalize_test(X, mu, std):\n",
    "    \n",
    "    X = (X-mu)/std\n",
    "    \n",
    "    return X"
   ]
  },
  {
   "cell_type": "code",
   "execution_count": 9,
   "id": "ceb02676-1ae2-4875-892d-3185f529a1da",
   "metadata": {},
   "outputs": [],
   "source": [
    "def evaluate(y, Y):\n",
    "\n",
    "    accuracy = sum(y == Y) / len(Y)\n",
    "    \n",
    "    return round(accuracy,2)"
   ]
  },
  {
   "cell_type": "code",
   "execution_count": 10,
   "id": "e6537926-4386-424a-9643-43730c6edc65",
   "metadata": {},
   "outputs": [],
   "source": [
    "def map_to_classname(y):\n",
    "    \n",
    "    mapping = { 0: 'Setosa', 1: 'Versicolor', 2: 'Virginica'}\n",
    "\n",
    "    results = [mapping[index] for index in y]\n",
    "    \n",
    "    return results\n",
    "        "
   ]
  },
  {
   "cell_type": "code",
   "execution_count": null,
   "id": "76066635-ee2b-428f-b341-2a96cb51206f",
   "metadata": {},
   "outputs": [],
   "source": []
  },
  {
   "cell_type": "markdown",
   "id": "76ca5c5a-a04e-44f6-8909-9d0960ffbe27",
   "metadata": {},
   "source": [
    "Run KNN"
   ]
  },
  {
   "cell_type": "code",
   "execution_count": 11,
   "id": "927efb04-4e48-4ab1-a0ef-7e5d732d0a84",
   "metadata": {},
   "outputs": [],
   "source": [
    "iris = datasets.load_iris()\n",
    "\n",
    "X = iris.data\n",
    "Y = iris.target"
   ]
  },
  {
   "cell_type": "code",
   "execution_count": 12,
   "id": "4b49043c-8903-4fc6-80a7-70b053478d37",
   "metadata": {},
   "outputs": [],
   "source": [
    "df = pd.DataFrame(X, columns=iris.feature_names)\n",
    "df[\"Type of Iris\"] = Y\n",
    "\n",
    "df = df.sample(frac = 1)"
   ]
  },
  {
   "cell_type": "code",
   "execution_count": 13,
   "id": "a7de121e-73cb-492b-bace-2e2a8ea05116",
   "metadata": {},
   "outputs": [],
   "source": [
    "data = np.array(df)\n",
    "X = data[:,:-1]\n",
    "Y = data[:,-1]\n",
    "\n",
    "datasetX, X_test, datasetY, Y_test = train_test_split(X, Y, test_size=0.2)"
   ]
  },
  {
   "cell_type": "code",
   "execution_count": 14,
   "id": "0db85121-ca1d-4329-8d65-b4881e641598",
   "metadata": {},
   "outputs": [],
   "source": [
    "mappedY = map_to_classname(Y)\n",
    "df[\"Type of Iris\"] = mappedY"
   ]
  },
  {
   "cell_type": "code",
   "execution_count": 15,
   "id": "768f5817-5859-405a-a9f2-3fcc6b89a1d3",
   "metadata": {},
   "outputs": [
    {
     "data": {
      "text/html": [
       "<div>\n",
       "<style scoped>\n",
       "    .dataframe tbody tr th:only-of-type {\n",
       "        vertical-align: middle;\n",
       "    }\n",
       "\n",
       "    .dataframe tbody tr th {\n",
       "        vertical-align: top;\n",
       "    }\n",
       "\n",
       "    .dataframe thead th {\n",
       "        text-align: right;\n",
       "    }\n",
       "</style>\n",
       "<table border=\"1\" class=\"dataframe\">\n",
       "  <thead>\n",
       "    <tr style=\"text-align: right;\">\n",
       "      <th></th>\n",
       "      <th>sepal length (cm)</th>\n",
       "      <th>sepal width (cm)</th>\n",
       "      <th>petal length (cm)</th>\n",
       "      <th>petal width (cm)</th>\n",
       "      <th>Type of Iris</th>\n",
       "    </tr>\n",
       "  </thead>\n",
       "  <tbody>\n",
       "    <tr>\n",
       "      <th>125</th>\n",
       "      <td>7.2</td>\n",
       "      <td>3.2</td>\n",
       "      <td>6.0</td>\n",
       "      <td>1.8</td>\n",
       "      <td>Virginica</td>\n",
       "    </tr>\n",
       "    <tr>\n",
       "      <th>70</th>\n",
       "      <td>5.9</td>\n",
       "      <td>3.2</td>\n",
       "      <td>4.8</td>\n",
       "      <td>1.8</td>\n",
       "      <td>Versicolor</td>\n",
       "    </tr>\n",
       "    <tr>\n",
       "      <th>11</th>\n",
       "      <td>4.8</td>\n",
       "      <td>3.4</td>\n",
       "      <td>1.6</td>\n",
       "      <td>0.2</td>\n",
       "      <td>Setosa</td>\n",
       "    </tr>\n",
       "    <tr>\n",
       "      <th>56</th>\n",
       "      <td>6.3</td>\n",
       "      <td>3.3</td>\n",
       "      <td>4.7</td>\n",
       "      <td>1.6</td>\n",
       "      <td>Versicolor</td>\n",
       "    </tr>\n",
       "    <tr>\n",
       "      <th>31</th>\n",
       "      <td>5.4</td>\n",
       "      <td>3.4</td>\n",
       "      <td>1.5</td>\n",
       "      <td>0.4</td>\n",
       "      <td>Setosa</td>\n",
       "    </tr>\n",
       "  </tbody>\n",
       "</table>\n",
       "</div>"
      ],
      "text/plain": [
       "     sepal length (cm)  sepal width (cm)  petal length (cm)  petal width (cm)  \\\n",
       "125                7.2               3.2                6.0               1.8   \n",
       "70                 5.9               3.2                4.8               1.8   \n",
       "11                 4.8               3.4                1.6               0.2   \n",
       "56                 6.3               3.3                4.7               1.6   \n",
       "31                 5.4               3.4                1.5               0.4   \n",
       "\n",
       "    Type of Iris  \n",
       "125    Virginica  \n",
       "70    Versicolor  \n",
       "11        Setosa  \n",
       "56    Versicolor  \n",
       "31        Setosa  "
      ]
     },
     "execution_count": 15,
     "metadata": {},
     "output_type": "execute_result"
    }
   ],
   "source": [
    "df.head()"
   ]
  },
  {
   "cell_type": "code",
   "execution_count": 16,
   "id": "86251abf-1a1c-4bd5-9ef4-aac9cfe6460d",
   "metadata": {},
   "outputs": [
    {
     "name": "stdout",
     "output_type": "stream",
     "text": [
      "Dataset contains 4 features and 150 samples \n",
      "Task is to classify the Iris into 3 types:  ['setosa' 'versicolor' 'virginica']\n"
     ]
    }
   ],
   "source": [
    "print(\"Dataset contains {} features and {} samples \".format(df.shape[1]-1,df.shape[0]))\n",
    "print(\"Task is to classify the Iris into 3 types: \",iris.target_names)"
   ]
  },
  {
   "cell_type": "code",
   "execution_count": 17,
   "id": "9cf982f2-6062-4ed7-890c-06c559e4c41a",
   "metadata": {},
   "outputs": [],
   "source": [
    "datasetX, mu, std = normalize(datasetX, False)\n",
    "X_test = normalize_test(X_test, mu, std)"
   ]
  },
  {
   "cell_type": "markdown",
   "id": "4015cd22-53a9-45a7-aaa3-399c3e6b46cf",
   "metadata": {},
   "source": [
    "Finding K"
   ]
  },
  {
   "cell_type": "code",
   "execution_count": 18,
   "id": "5bf8a75e-d634-4971-b58f-2693aca52290",
   "metadata": {},
   "outputs": [
    {
     "data": {
      "image/png": "[encoded data removed]",
      "text/plain": [
       "<Figure size 432x288 with 1 Axes>"
      ]
     },
     "metadata": {
      "needs_background": "light"
     },
     "output_type": "display_data"
    },
    {
     "name": "stdout",
     "output_type": "stream",
     "text": [
      "Best Accuracy of 98.0% found for k=7 \n",
      "So Chosen K is : 7\n"
     ]
    }
   ],
   "source": [
    "maxK = 30\n",
    "K = choose_K(datasetX, datasetY, maxK)"
   ]
  },
  {
   "cell_type": "code",
   "execution_count": null,
   "id": "56f8c6b2-53b8-4230-8523-926e3978e753",
   "metadata": {},
   "outputs": [],
   "source": []
  },
  {
   "cell_type": "markdown",
   "id": "f0b7274d-a917-4baa-b17e-e65696a4a266",
   "metadata": {},
   "source": [
    "Performance on Test set"
   ]
  },
  {
   "cell_type": "code",
   "execution_count": 19,
   "id": "d396723f-b8bf-4888-8c9c-543e2956d9e0",
   "metadata": {},
   "outputs": [],
   "source": [
    "predictions = KNN(datasetX, datasetY, X_test, K)"
   ]
  },
  {
   "cell_type": "code",
   "execution_count": 20,
   "id": "ecbf9549-7fdf-4cb4-90b0-5a34a4430750",
   "metadata": {},
   "outputs": [
    {
     "name": "stdout",
     "output_type": "stream",
     "text": [
      "Accuracy on test data is: 97.0%\n"
     ]
    }
   ],
   "source": [
    "accuracy = evaluate(predictions, Y_test) \n",
    "\n",
    "print(\"Accuracy on test data is: {}%\".format(accuracy*100))"
   ]
  },
  {
   "cell_type": "code",
   "execution_count": null,
   "id": "752abaa7-0d89-437e-8ef9-f1d2e122f2f4",
   "metadata": {},
   "outputs": [],
   "source": []
  },
  {
   "cell_type": "markdown",
   "id": "822ed91c-4a65-46d8-8ab5-d5b0392e88fb",
   "metadata": {},
   "source": [
    "Predicting on a sample"
   ]
  },
  {
   "cell_type": "code",
   "execution_count": 21,
   "id": "c01e5d07-1877-4eb4-8300-d42d551c7727",
   "metadata": {},
   "outputs": [
    {
     "name": "stdout",
     "output_type": "stream",
     "text": [
      "For data=[[4.5 2.3 1.3 0.3]]\n",
      "Predicted Iris type: Virginica\n"
     ]
    }
   ],
   "source": [
    "isample = np.array([[4.5, 2.3, 1.3, 0.3]])\n",
    "\n",
    "prediction = KNN(datasetX, datasetY, isample, K)\n",
    "y = map_to_classname(prediction)\n",
    "\n",
    "print('For data={}\\nPredicted Iris type: {}'.format(isample, y[0]))"
   ]
  },
  {
   "cell_type": "code",
   "execution_count": null,
   "id": "1d98d55f-8212-4ede-9894-e2c8ca2e7ff0",
   "metadata": {},
   "outputs": [],
   "source": []
  }
 ],
 "metadata": {
  "kernelspec": {
   "display_name": "Python 3 (ipykernel)",
   "language": "python",
   "name": "python3"
  },
  "language_info": {
   "codemirror_mode": {
    "name": "ipython",
    "version": 3
   },
   "file_extension": ".py",
   "mimetype": "text/x-python",
   "name": "python",
   "nbconvert_exporter": "python",
   "pygments_lexer": "ipython3",
   "version": "3.10.3"
  }
 },
 "nbformat": 4,
 "nbformat_minor": 5
}
